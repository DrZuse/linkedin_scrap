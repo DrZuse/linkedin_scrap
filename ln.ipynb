{
 "cells": [
  {
   "cell_type": "code",
   "execution_count": 5,
   "metadata": {},
   "outputs": [],
   "source": [
    "from linkedin_api import Linkedin\n",
    "import os\n",
    "from dotenv import load_dotenv\n",
    "import json\n",
    "\n"
   ]
  },
  {
   "cell_type": "code",
   "execution_count": 6,
   "metadata": {},
   "outputs": [],
   "source": [
    "# Load environment variables from .env file\n",
    "load_dotenv()\n",
    "\n",
    "# Access sensitive data using os.getenv()\n",
    "username = os.getenv(\"USERNAME\")\n",
    "password = os.getenv(\"PASSWORD\")\n"
   ]
  },
  {
   "cell_type": "code",
   "execution_count": 4,
   "metadata": {},
   "outputs": [
    {
     "name": "stdout",
     "output_type": "stream",
     "text": [
      "[{'dashEntityUrn': 'urn:li:fsd_jobPosting:3672226810', 'companyDetails': {'company': 'urn:li:fs_normalized_company:359927', '*companyResolutionResult': 'urn:li:fs_normalized_company:359927', '$recipeTypes': ['com.linkedin.voyager.deco.jserp.WebJobPostingWithCompanyName'], '$type': 'com.linkedin.voyager.jobs.JobPostingCompany'}, 'formattedLocation': 'European Union', 'listedAt': 1689944812000, 'title': 'Program Coordinator, Analytics and Automation (m/f/d)', '$recipeTypes': ['com.linkedin.voyager.deco.jserp.WebSearchJobJserpJobPostingLite'], '$type': 'com.linkedin.voyager.jobs.JobPosting', 'entityUrn': 'urn:li:fs_normalized_jobPosting:3672226810', 'workRemoteAllowed': True}, {'dashEntityUrn': 'urn:li:fsd_jobPosting:3672197667', 'companyDetails': {'company': 'urn:li:fs_normalized_company:10469647', '*companyResolutionResult': 'urn:li:fs_normalized_company:10469647', '$recipeTypes': ['com.linkedin.voyager.deco.jserp.WebJobPostingWithCompanyName'], '$type': 'com.linkedin.voyager.jobs.JobPostingCompany'}, 'formattedLocation': 'European Union', 'listedAt': 1689940127000, 'title': 'Quality Engineering Tester', '$recipeTypes': ['com.linkedin.voyager.deco.jserp.WebSearchJobJserpJobPostingLite'], '$type': 'com.linkedin.voyager.jobs.JobPosting', 'entityUrn': 'urn:li:fs_normalized_jobPosting:3672197667', 'workRemoteAllowed': True}, {'dashEntityUrn': 'urn:li:fsd_jobPosting:3643294604', 'companyDetails': {'company': 'urn:li:fs_normalized_company:33246798', '*companyResolutionResult': 'urn:li:fs_normalized_company:33246798', '$recipeTypes': ['com.linkedin.voyager.deco.jserp.WebJobPostingWithCompanyName'], '$type': 'com.linkedin.voyager.jobs.JobPostingCompany'}, 'formattedLocation': 'European Economic Area', 'listedAt': 1689937359000, 'title': 'Data Loss Prevention Operations Analyst (Dublin)', '$recipeTypes': ['com.linkedin.voyager.deco.jserp.WebSearchJobJserpJobPostingLite'], '$type': 'com.linkedin.voyager.jobs.JobPosting', 'entityUrn': 'urn:li:fs_normalized_jobPosting:3643294604', 'workRemoteAllowed': True}, {'dashEntityUrn': 'urn:li:fsd_jobPosting:3669389030', 'companyDetails': {'company': 'urn:li:fs_normalized_company:18986566', '*companyResolutionResult': 'urn:li:fs_normalized_company:18986566', '$recipeTypes': ['com.linkedin.voyager.deco.jserp.WebJobPostingWithCompanyName'], '$type': 'com.linkedin.voyager.jobs.JobPostingCompany'}, 'formattedLocation': 'European Union', 'listedAt': 1689895598000, 'title': 'Senior AI Engineer', '$recipeTypes': ['com.linkedin.voyager.deco.jserp.WebSearchJobJserpJobPostingLite'], '$type': 'com.linkedin.voyager.jobs.JobPosting', 'entityUrn': 'urn:li:fs_normalized_jobPosting:3669389030', 'workRemoteAllowed': True}, {'dashEntityUrn': 'urn:li:fsd_jobPosting:3672224056', 'companyDetails': {'company': 'urn:li:fs_normalized_company:2585645', '*companyResolutionResult': 'urn:li:fs_normalized_company:2585645', '$recipeTypes': ['com.linkedin.voyager.deco.jserp.WebJobPostingWithCompanyName'], '$type': 'com.linkedin.voyager.jobs.JobPostingCompany'}, 'formattedLocation': 'European Economic Area', 'listedAt': 1689942902000, 'title': 'Quality Assurance Test Engineer', '$recipeTypes': ['com.linkedin.voyager.deco.jserp.WebSearchJobJserpJobPostingLite'], '$type': 'com.linkedin.voyager.jobs.JobPosting', 'entityUrn': 'urn:li:fs_normalized_jobPosting:3672224056', 'workRemoteAllowed': True}, {'dashEntityUrn': 'urn:li:fsd_jobPosting:3662753314', 'companyDetails': {'company': 'urn:li:fs_normalized_company:11550410', '*companyResolutionResult': 'urn:li:fs_normalized_company:11550410', '$recipeTypes': ['com.linkedin.voyager.deco.jserp.WebJobPostingWithCompanyName'], '$type': 'com.linkedin.voyager.jobs.JobPostingCompany'}, 'formattedLocation': 'European Economic Area', 'listedAt': 1689942506000, 'title': 'Python Developer', '$recipeTypes': ['com.linkedin.voyager.deco.jserp.WebSearchJobJserpJobPostingLite'], '$type': 'com.linkedin.voyager.jobs.JobPosting', 'entityUrn': 'urn:li:fs_normalized_jobPosting:3662753314', 'workRemoteAllowed': True}, {'dashEntityUrn': 'urn:li:fsd_jobPosting:3670639091', 'companyDetails': {'company': 'urn:li:fs_normalized_company:87405767', '*companyResolutionResult': 'urn:li:fs_normalized_company:87405767', '$recipeTypes': ['com.linkedin.voyager.deco.jserp.WebJobPostingWithCompanyName'], '$type': 'com.linkedin.voyager.jobs.JobPostingCompany'}, 'formattedLocation': 'Cyprus', 'listedAt': 1689885979000, 'title': 'Full-stack Developer (Remote EU - FR & EN Fluent)', '$recipeTypes': ['com.linkedin.voyager.deco.jserp.WebSearchJobJserpJobPostingLite'], '$type': 'com.linkedin.voyager.jobs.JobPosting', 'entityUrn': 'urn:li:fs_normalized_jobPosting:3670639091', 'workRemoteAllowed': True}, {'dashEntityUrn': 'urn:li:fsd_jobPosting:3672230071', 'companyDetails': {'company': 'urn:li:fs_normalized_company:34594817', '*companyResolutionResult': 'urn:li:fs_normalized_company:34594817', '$recipeTypes': ['com.linkedin.voyager.deco.jserp.WebJobPostingWithCompanyName'], '$type': 'com.linkedin.voyager.jobs.JobPostingCompany'}, 'formattedLocation': 'European Union', 'listedAt': 1689944660000, 'title': 'Software Engineer (Europe)', '$recipeTypes': ['com.linkedin.voyager.deco.jserp.WebSearchJobJserpJobPostingLite'], '$type': 'com.linkedin.voyager.jobs.JobPosting', 'entityUrn': 'urn:li:fs_normalized_jobPosting:3672230071', 'workRemoteAllowed': True}, {'dashEntityUrn': 'urn:li:fsd_jobPosting:3670842103', 'companyDetails': {'company': 'urn:li:fs_normalized_company:31572187', '*companyResolutionResult': 'urn:li:fs_normalized_company:31572187', '$recipeTypes': ['com.linkedin.voyager.deco.jserp.WebJobPostingWithCompanyName'], '$type': 'com.linkedin.voyager.jobs.JobPostingCompany'}, 'formattedLocation': 'European Union', 'listedAt': 1689911569000, 'title': 'Data Research Lead', '$recipeTypes': ['com.linkedin.voyager.deco.jserp.WebSearchJobJserpJobPostingLite'], '$type': 'com.linkedin.voyager.jobs.JobPosting', 'entityUrn': 'urn:li:fs_normalized_jobPosting:3670842103', 'workRemoteAllowed': True}, {'dashEntityUrn': 'urn:li:fsd_jobPosting:3670639101', 'companyDetails': {'company': 'urn:li:fs_normalized_company:87405767', '*companyResolutionResult': 'urn:li:fs_normalized_company:87405767', '$recipeTypes': ['com.linkedin.voyager.deco.jserp.WebJobPostingWithCompanyName'], '$type': 'com.linkedin.voyager.jobs.JobPostingCompany'}, 'formattedLocation': 'Nicosia, Nicosia, Cyprus', 'listedAt': 1689885982000, 'title': 'Full-stack Developer (Remote EU - FR & EN Fluent)', '$recipeTypes': ['com.linkedin.voyager.deco.jserp.WebSearchJobJserpJobPostingLite'], '$type': 'com.linkedin.voyager.jobs.JobPosting', 'entityUrn': 'urn:li:fs_normalized_jobPosting:3670639101', 'workRemoteAllowed': True}]\n"
     ]
    }
   ],
   "source": [
    "# Authenticate using any Linkedin account credentials\n",
    "api = Linkedin(username, password)\n",
    "\n",
    "# GET a profile\n",
    "profile = api.search_jobs(keywords='python', limit=10, remote=True)\n",
    "\n",
    "print(profile)"
   ]
  }
 ],
 "metadata": {
  "kernelspec": {
   "display_name": "Python 3",
   "language": "python",
   "name": "python3"
  },
  "language_info": {
   "codemirror_mode": {
    "name": "ipython",
    "version": 3
   },
   "file_extension": ".py",
   "mimetype": "text/x-python",
   "name": "python",
   "nbconvert_exporter": "python",
   "pygments_lexer": "ipython3",
   "version": "3.10.6"
  },
  "orig_nbformat": 4
 },
 "nbformat": 4,
 "nbformat_minor": 2
}
